{
 "cells": [
  {
   "cell_type": "markdown",
   "id": "17028c8e",
   "metadata": {},
   "source": [
    "#Stock Price Prediction\n"
   ]
  },
  {
   "cell_type": "code",
   "execution_count": null,
   "id": "cc272a13",
   "metadata": {},
   "outputs": [],
   "source": [
    "import yfinance as yf\n",
    "stock = yf.ticker(\"^GSPC\")"
   ]
  }
 ],
 "metadata": {
  "kernelspec": {
   "display_name": "Python 3",
   "language": "python",
   "name": "python3"
  },
  "language_info": {
   "name": "python",
   "version": "3.12.9"
  }
 },
 "nbformat": 4,
 "nbformat_minor": 5
}
